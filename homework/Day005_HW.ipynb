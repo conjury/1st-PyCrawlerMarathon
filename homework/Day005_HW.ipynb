{
 "cells": [
  {
   "cell_type": "markdown",
   "metadata": {},
   "source": [
    "# API 資料串接 - 以 Dcard API 實作範例\n",
    "\n",
    "* 了解 Dcard API 使用方式與回傳內容\n",
    "* 撰寫程式存取 API 且解析 JSON 格式資料\n"
   ]
  },
  {
   "cell_type": "markdown",
   "metadata": {},
   "source": [
    "## 作業目標\n",
    "\n",
    "* 請利用 API: https://www.dcard.tw/_api/forums/pet/posts?popular=true 回答下列問題：\n",
    "\n",
    "1. 這個 API 一次會回傳幾筆資料？每一筆資料包含哪些欄位？\n",
    "2. 取出每一筆資料的「標題」、「貼文時間」、「留言人數」、「按讚人數」\n",
    "3. 計算熱門/非熱門文章的「平均留言人數」與「平均按讚人數」"
   ]
  },
  {
   "cell_type": "code",
   "execution_count": 31,
   "metadata": {},
   "outputs": [
    {
     "name": "stdout",
     "output_type": "stream",
     "text": [
      "這個 API 一次會回傳 30 筆資料\n",
      "\n",
      "每一筆資料包含欄位：\n",
      "id\n",
      "title\n",
      "excerpt\n",
      "anonymousSchool\n",
      "anonymousDepartment\n",
      "pinned\n",
      "forumId\n",
      "replyId\n",
      "createdAt\n",
      "updatedAt\n",
      "commentCount\n",
      "likeCount\n",
      "withNickname\n",
      "tags\n",
      "topics\n",
      "meta\n",
      "forumName\n",
      "forumAlias\n",
      "gender\n",
      "school\n",
      "replyTitle\n",
      "mediaMeta\n",
      "reactions\n",
      "hidden\n",
      "customStyle\n",
      "isSuspiciousAccount\n",
      "layout\n",
      "withImages\n",
      "withVideos\n",
      "media\n",
      "reportReasonText\n",
      "postAvatar\n"
     ]
    }
   ],
   "source": [
    "# 1. 這個 API 一次會回傳幾筆資料？每一筆資料包含哪些欄位？\n",
    "\n",
    "import requests, json\n",
    "\n",
    "req_hot = requests.get('https://www.dcard.tw/_api/forums/pet/posts?popular=true')\n",
    "hot = json.loads(req_hot.text)\n",
    "hot_article_count = len(hot)\n",
    "print('這個 API 一次會回傳', hot_article_count, '筆資料\\n\\n每一筆資料包含欄位：')\n",
    "\n",
    "for d in hot[0]:\n",
    "    print(d)"
   ]
  },
  {
   "cell_type": "code",
   "execution_count": 26,
   "metadata": {},
   "outputs": [
    {
     "name": "stdout",
     "output_type": "stream",
     "text": [
      "#圖多 我家的玩偶狗 2019-12-04T04:48:02.693Z 65 1440\n",
      "拜託🙏走失協尋😭我的兩隻寶貝⋯ 2019-12-04T15:43:58.406Z 100 795\n",
      "＃過敏兒集合 ✨淨化空氣の神器 F101空氣清淨機✨ 拯救鼻子的好幫手 2019-12-04T07:00:21.443Z 6 552\n",
      "有人家的貓貓也會有這種反應嗎 2019-12-03T21:02:41.770Z 17 517\n",
      "冬天到了。躺在床上滑手機 。 2019-12-03T23:53:16.051Z 9 370\n",
      "小貓認養 2019-12-04T08:40:41.961Z 13 149\n",
      "同學你的貓貓被通緝了~ 2019-12-04T09:47:17.828Z 32 110\n",
      "貓的手手有出現🌈💕 2019-12-04T01:44:05.031Z 0 47\n",
      "尋找異父異母的兄弟 2019-12-04T02:19:16.100Z 2 46\n",
      "你真的是喵咪嗎ಥ_ಥ 2019-12-04T13:44:00.949Z 12 43\n",
      "內有惡貓 2019-12-04T05:28:26.991Z 11 41\n",
      "拜託，冬天別來好嗎.... 2019-12-04T12:11:32.313Z 6 36\n",
      "#圖多  辦公室黑貓 歐嚕嚕 2019-12-04T07:10:32.716Z 6 29\n",
      "協尋😭😭😭 2019-12-04T16:11:35.761Z 2 20\n",
      "穿雨衣怎麼那麼呆 2019-12-04T14:57:29.124Z 3 16\n",
      "老闆請給我來十斤！ 2019-12-04T09:46:34.362Z 0 14\n",
      "貓🐱 2019-12-04T19:22:30.430Z 1 12\n",
      "天冷了 臉更黑的滿芙 2019-12-04T13:47:39.564Z 2 12\n",
      "照騙 2019-12-04T12:07:07.849Z 0 12\n",
      "懇請台中人/讓皮皮回家 2019-12-04T09:35:17.074Z 5 12\n",
      "我在日本養了一隻小偷貓 2019-12-04T13:43:45.625Z 0 11\n",
      "你是要我睡哪裡 2019-12-05T05:31:34.760Z 0 10\n",
      "柴柴 2019-12-04T14:20:55.506Z 2 8\n",
      "不少人跪求當我的狗^.^ 2019-12-04T11:25:12.544Z 6 7\n",
      "蓋個瑪爾濟一、濟二、濟三、瑪爾濟斯樓 2019-12-05T05:06:06.855Z 2 5\n",
      "新崛江的狗！！！！ 2019-12-04T17:42:30.359Z 1 5\n",
      "充滿貓咪的沙龍 2019-12-04T10:04:00.365Z 1 5\n",
      "貓咪握手手-影片 2019-12-04T14:11:55.438Z 0 4\n",
      "關於新崛江某間店前的狗❗ 2019-12-04T09:09:09.018Z 4 4\n",
      "金魚 2019-12-04T00:58:46.222Z 4 4\n"
     ]
    }
   ],
   "source": [
    "# 2. 取出每一筆資料的「標題」、「貼文時間」、「留言人數」、「按讚人數」\n",
    "\n",
    "for d in data:\n",
    "    print(d['title'], d['createdAt'], d['commentCount'], d['likeCount'])"
   ]
  },
  {
   "cell_type": "code",
   "execution_count": null,
   "metadata": {},
   "outputs": [],
   "source": []
  },
  {
   "cell_type": "code",
   "execution_count": 42,
   "metadata": {},
   "outputs": [
    {
     "name": "stdout",
     "output_type": "stream",
     "text": [
      "熱門文章：\n",
      "\t平均留言人數： 11.033333333333333 \n",
      "\t平均按讚人數： 158.43333333333334\n",
      "熱門文章：\n",
      "\t平均留言人數： 5.9 \n",
      "\t平均按讚人數： 35.63333333333333\n"
     ]
    }
   ],
   "source": [
    "# 3. 計算熱門/非熱門文章的「平均留言人數」與「平均按讚人數」\n",
    "\n",
    "#所有留言數量 除 文章數量\n",
    "#所有按讚數量 除 文章數量\n",
    "\n",
    "hot_commentCount = 0\n",
    "hot_likeCount = 0\n",
    "nohot_commentCount = 0\n",
    "nohot_likeCount = 0\n",
    "\n",
    "req_hot = requests.get('https://www.dcard.tw/_api/forums/pet/posts?popular=true')\n",
    "hot = json.loads(req_hot.text)\n",
    "hot_article_count = len(hot)\n",
    "for h in hot:\n",
    "    hot_commentCount = hot_commentCount + h['commentCount']\n",
    "    hot_likeCount = hot_likeCount + h['likeCount']\n",
    "\n",
    "req_nohot = requests.get('https://www.dcard.tw/_api/forums/pet/posts?popular=false')\n",
    "nohot = json.loads(req_nohot.text)\n",
    "nohot_article_count = len(nohot)\n",
    "for h in nohot:\n",
    "    nohot_commentCount = nohot_commentCount + h['commentCount']\n",
    "    nohot_likeCount = nohot_likeCount + h['likeCount']\n",
    "\n",
    "print('熱門文章：\\n\\t平均留言人數：', (hot_commentCount/hot_article_count), '\\n\\t平均按讚人數：', (hot_likeCount/hot_article_count))\n",
    "print('熱門文章：\\n\\t平均留言人數：', (nohot_commentCount/nohot_article_count), '\\n\\t平均按讚人數：', (nohot_likeCount/nohot_article_count))"
   ]
  },
  {
   "cell_type": "code",
   "execution_count": null,
   "metadata": {},
   "outputs": [],
   "source": []
  }
 ],
 "metadata": {
  "kernelspec": {
   "display_name": "Python 3",
   "language": "python",
   "name": "python3"
  },
  "language_info": {
   "codemirror_mode": {
    "name": "ipython",
    "version": 3
   },
   "file_extension": ".py",
   "mimetype": "text/x-python",
   "name": "python",
   "nbconvert_exporter": "python",
   "pygments_lexer": "ipython3",
   "version": "3.7.4"
  }
 },
 "nbformat": 4,
 "nbformat_minor": 2
}
